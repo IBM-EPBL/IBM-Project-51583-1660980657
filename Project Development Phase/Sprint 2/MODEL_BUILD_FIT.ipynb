{
  "nbformat": 4,
  "nbformat_minor": 0,
  "metadata": {
    "colab": {
      "provenance": []
    },
    "kernelspec": {
      "name": "python3",
      "display_name": "Python 3"
    },
    "language_info": {
      "name": "python"
    }
  },
  "cells": [
    {
      "cell_type": "code",
      "execution_count": 1,
      "metadata": {
        "id": "HCXLrJHUbe66"
      },
      "outputs": [],
      "source": [
        "import tensorflow as tf\n",
        "import numpy as np\n",
        "from tensorflow import keras\n",
        "import os\n",
        "import cv2\n",
        "from tensorflow.keras.preprocessing.image import ImageDataGenerator\n",
        "from tensorflow.keras.preprocessing import image\n",
        "import matplotlib.pyplot as plt"
      ]
    },
    {
      "cell_type": "code",
      "source": [
        "train = ImageDataGenerator(rescale=1/255)\n",
        "test = ImageDataGenerator(rescale=1/255)\n",
        "\n",
        "train_dataset = train.flow_from_directory(\"/content/drive/MyDrive/Colab Notebooks/Dataset/Dataset/train_set\",\n",
        "                                          target_size=(150,150),\n",
        "                                          batch_size = 32,\n",
        "                                          class_mode = 'binary')\n",
        "\n",
        "test_dataset = test.flow_from_directory(\"/content/drive/MyDrive/Colab Notebooks/Dataset/Dataset/train_set\",\n",
        "                                          target_size=(150,150),\n",
        "                                          batch_size =32,\n",
        "                                          class_mode = 'binary')"
      ],
      "metadata": {
        "colab": {
          "base_uri": "https://localhost:8080/"
        },
        "id": "7qx-0Zgmb6Qj",
        "outputId": "76084ab9-c0b5-48d0-b7a7-221eede3d511"
      },
      "execution_count": 3,
      "outputs": [
        {
          "output_type": "stream",
          "name": "stdout",
          "text": [
            "Found 436 images belonging to 2 classes.\n",
            "Found 436 images belonging to 2 classes.\n"
          ]
        }
      ]
    },
    {
      "cell_type": "code",
      "source": [
        "test_dataset.class_indices"
      ],
      "metadata": {
        "colab": {
          "base_uri": "https://localhost:8080/"
        },
        "id": "KHe6tjEub6dK",
        "outputId": "10f6005d-965d-46e2-8304-b754e311fcec"
      },
      "execution_count": 4,
      "outputs": [
        {
          "output_type": "execute_result",
          "data": {
            "text/plain": [
              "{'forest': 0, 'with fire': 1}"
            ]
          },
          "metadata": {},
          "execution_count": 4
        }
      ]
    },
    {
      "cell_type": "code",
      "source": [
        "model = keras.Sequential()\n",
        "model.add(keras.layers.Conv2D(32,(3,3),activation='relu',input_shape=(150,150,3)))\n",
        "model.add(keras.layers.MaxPool2D(2,2))\n",
        "model.add(keras.layers.Conv2D(64,(3,3),activation='relu'))\n",
        "model.add(keras.layers.MaxPool2D(2,2))\n",
        "model.add(keras.layers.Conv2D(128,(3,3),activation='relu'))\n",
        "model.add(keras.layers.MaxPool2D(2,2))\n",
        "model.add(keras.layers.Conv2D(128,(3,3),activation='relu'))\n",
        "model.add(keras.layers.MaxPool2D(2,2))\n",
        "model.add(keras.layers.Flatten())\n",
        "model.add(keras.layers.Dense(512,activation='relu'))\n",
        "model.add(keras.layers.Dense(1,activation='sigmoid'))"
      ],
      "metadata": {
        "id": "9u57Njpjb6hM"
      },
      "execution_count": 5,
      "outputs": []
    },
    {
      "cell_type": "code",
      "source": [
        "model.compile(optimizer='adam',loss='binary_crossentropy',metrics=['accuracy'])"
      ],
      "metadata": {
        "id": "4bG7Jgipc_qK"
      },
      "execution_count": 6,
      "outputs": []
    },
    {
      "cell_type": "code",
      "source": [
        "r = model.fit(train_dataset,\n",
        "         epochs = 10,\n",
        "         validation_data = test_dataset)"
      ],
      "metadata": {
        "colab": {
          "base_uri": "https://localhost:8080/"
        },
        "id": "YqikWfqrdE7h",
        "outputId": "bc71de3b-bf0d-4b8b-ae65-2fd302fddc9c"
      },
      "execution_count": 8,
      "outputs": [
        {
          "output_type": "stream",
          "name": "stdout",
          "text": [
            "Epoch 1/10\n",
            "14/14 [==============================] - 54s 4s/step - loss: 0.1542 - accuracy: 0.9495 - val_loss: 0.1199 - val_accuracy: 0.9541\n",
            "Epoch 2/10\n",
            "14/14 [==============================] - 52s 4s/step - loss: 0.1284 - accuracy: 0.9472 - val_loss: 0.1057 - val_accuracy: 0.9633\n",
            "Epoch 3/10\n",
            "14/14 [==============================] - 52s 4s/step - loss: 0.1106 - accuracy: 0.9656 - val_loss: 0.1208 - val_accuracy: 0.9427\n",
            "Epoch 4/10\n",
            "14/14 [==============================] - 52s 4s/step - loss: 0.2103 - accuracy: 0.9083 - val_loss: 0.1925 - val_accuracy: 0.9633\n",
            "Epoch 5/10\n",
            "14/14 [==============================] - 54s 4s/step - loss: 0.1261 - accuracy: 0.9564 - val_loss: 0.2068 - val_accuracy: 0.9266\n",
            "Epoch 6/10\n",
            "14/14 [==============================] - 52s 4s/step - loss: 0.1660 - accuracy: 0.9381 - val_loss: 0.1333 - val_accuracy: 0.9633\n",
            "Epoch 7/10\n",
            "14/14 [==============================] - 50s 4s/step - loss: 0.1004 - accuracy: 0.9656 - val_loss: 0.0779 - val_accuracy: 0.9725\n",
            "Epoch 8/10\n",
            "14/14 [==============================] - 52s 4s/step - loss: 0.1133 - accuracy: 0.9518 - val_loss: 0.0691 - val_accuracy: 0.9794\n",
            "Epoch 9/10\n",
            "14/14 [==============================] - 52s 4s/step - loss: 0.0757 - accuracy: 0.9794 - val_loss: 0.0614 - val_accuracy: 0.9702\n",
            "Epoch 10/10\n",
            "14/14 [==============================] - 54s 4s/step - loss: 0.0713 - accuracy: 0.9748 - val_loss: 0.0611 - val_accuracy: 0.9702\n"
          ]
        }
      ]
    }
  ]
}